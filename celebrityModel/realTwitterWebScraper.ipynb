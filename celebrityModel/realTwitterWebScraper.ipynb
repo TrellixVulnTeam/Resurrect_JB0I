{
  "nbformat": 4,
  "nbformat_minor": 0,
  "metadata": {
    "colab": {
      "name": "realTwitterWebScraper.ipynb",
      "provenance": [],
      "include_colab_link": true
    },
    "kernelspec": {
      "name": "python3",
      "display_name": "Python 3"
    }
  },
  "cells": [
    {
      "cell_type": "markdown",
      "metadata": {
        "id": "view-in-github",
        "colab_type": "text"
      },
      "source": [
        "<a href=\"https://colab.research.google.com/github/ayaanzhaque/WelcomeBack/blob/master/celebrityModel/realTwitterWebScraper.ipynb\" target=\"_parent\"><img src=\"https://colab.research.google.com/assets/colab-badge.svg\" alt=\"Open In Colab\"/></a>"
      ]
    },
    {
      "cell_type": "code",
      "metadata": {
        "id": "kMj0sS2nNODy",
        "colab_type": "code",
        "colab": {
          "base_uri": "https://localhost:8080/",
          "height": 85
        },
        "outputId": "2313083d-b5e4-45ea-a183-aa68da38380e"
      },
      "source": [
        "!pip install GetOldTweets3"
      ],
      "execution_count": 8,
      "outputs": [
        {
          "output_type": "stream",
          "text": [
            "Requirement already satisfied: GetOldTweets3 in /usr/local/lib/python3.6/dist-packages (0.0.11)\n",
            "Requirement already satisfied: lxml>=3.5.0 in /usr/local/lib/python3.6/dist-packages (from GetOldTweets3) (4.2.6)\n",
            "Requirement already satisfied: pyquery>=1.2.10 in /usr/local/lib/python3.6/dist-packages (from GetOldTweets3) (1.4.1)\n",
            "Requirement already satisfied: cssselect>0.7.9 in /usr/local/lib/python3.6/dist-packages (from pyquery>=1.2.10->GetOldTweets3) (1.1.0)\n"
          ],
          "name": "stdout"
        }
      ]
    },
    {
      "cell_type": "code",
      "metadata": {
        "id": "SbAcXheFNWMe",
        "colab_type": "code",
        "colab": {}
      },
      "source": [
        "# Importing GetOldTweets3\n",
        "import GetOldTweets3 as got\n",
        "# Importing pandas\n",
        "import pandas as pd\n",
        "\n",
        "def get_tweets(username, top_only, start_date, end_date, max_tweets):\n",
        "   \n",
        "    # specifying tweet search criteria \n",
        "    tweetCriteria = got.manager.TweetCriteria().setUsername(username)\\\n",
        "                          .setTopTweets(top_only)\\\n",
        "                          .setSince(start_date)\\\n",
        "                          .setUntil(end_date)\\\n",
        "                          .setMaxTweets(max_tweets)\n",
        "    \n",
        "    # scraping tweets based on criteria\n",
        "    tweet = got.manager.TweetManager.getTweets(tweetCriteria)\n",
        "    \n",
        "    # creating list of tweets with the tweet attributes \n",
        "    # specified in the list comprehension\n",
        "    text_tweets = [[\n",
        "                    tw.date,\n",
        "                    tw.username,\n",
        "                tw.text] for tw in tweet]\n",
        "    \n",
        "    # creating dataframe, assigning column names to list of\n",
        "    # tweets corresponding to tweet attributes\n",
        "    news_df = pd.DataFrame(text_tweets, \n",
        "                            columns = ['date', 'sender_name', 'text'])\n",
        "    \n",
        "    print(news_df)\n",
        "\n",
        "\n"
      ],
      "execution_count": 9,
      "outputs": []
    },
    {
      "cell_type": "code",
      "metadata": {
        "id": "rRUXBq5DIX3_",
        "colab_type": "code",
        "colab": {}
      },
      "source": [
        "usernames = [\"JuiceWorlddd\", \"kobebryant\"]"
      ],
      "execution_count": 10,
      "outputs": []
    },
    {
      "cell_type": "code",
      "metadata": {
        "id": "gqzYbyICI5Ps",
        "colab_type": "code",
        "colab": {
          "base_uri": "https://localhost:8080/",
          "height": 470
        },
        "outputId": "94b30c4d-658f-42dc-b92f-f4e9d43a171c"
      },
      "source": [
        "for username in usernames:\n",
        "  givenUsername = username\n",
        "  trainTweetCount = 500\n",
        "\n",
        "  tweet_df = get_tweets(givenUsername, \n",
        "                      top_only = True,\n",
        "                      start_date = \"2019-01-01\", \n",
        "                      end_date = \"2019-11-01\",\n",
        "                      max_tweets = trainTweetCount).sort_values('date', ascending=False)\n",
        "\n",
        "  tweet_df.head()\n",
        "  tweet_df.to_csv(\"/content/\" + givenUsername + \".csv\")"
      ],
      "execution_count": 12,
      "outputs": [
        {
          "output_type": "stream",
          "text": [
            "                         date  ...                                               text\n",
            "0   2019-10-30 06:54:20+00:00  ...  Rip John Witherspoon , One of the many iconic ...\n",
            "1   2019-10-19 03:05:04+00:00  ...  Don’t got the time nor patience to phony kick it \n",
            "2   2019-10-17 06:40:45+00:00  ...  I’ll never forget about the demons I conquered...\n",
            "3   2019-10-16 17:55:38+00:00  ...  These same thoughts harass me daily. N im not ...\n",
            "4   2019-10-13 00:36:32+00:00  ...                                 Look me in my eyes\n",
            "..                        ...  ...                                                ...\n",
            "294 2019-01-04 20:54:29+00:00  ...  Part of me wanna be like Kurt, part of me wann...\n",
            "295 2019-01-04 20:40:48+00:00  ...  Tell me what you kno about night terrors, nothing\n",
            "296 2019-01-04 11:38:08+00:00  ...                         Who put you on the planet \n",
            "297 2019-01-04 05:04:12+00:00  ...                                My head is pounding\n",
            "298 2019-01-02 11:33:47+00:00  ...                    Lmao the juice wrld y’all know \n",
            "\n",
            "[299 rows x 3 columns]\n"
          ],
          "name": "stdout"
        },
        {
          "output_type": "error",
          "ename": "AttributeError",
          "evalue": "ignored",
          "traceback": [
            "\u001b[0;31m---------------------------------------------------------------------------\u001b[0m",
            "\u001b[0;31mAttributeError\u001b[0m                            Traceback (most recent call last)",
            "\u001b[0;32m<ipython-input-12-13d454eee9ec>\u001b[0m in \u001b[0;36m<module>\u001b[0;34m()\u001b[0m\n\u001b[1;32m      7\u001b[0m                       \u001b[0mstart_date\u001b[0m \u001b[0;34m=\u001b[0m \u001b[0;34m\"2019-01-01\"\u001b[0m\u001b[0;34m,\u001b[0m\u001b[0;34m\u001b[0m\u001b[0;34m\u001b[0m\u001b[0m\n\u001b[1;32m      8\u001b[0m                       \u001b[0mend_date\u001b[0m \u001b[0;34m=\u001b[0m \u001b[0;34m\"2019-11-01\"\u001b[0m\u001b[0;34m,\u001b[0m\u001b[0;34m\u001b[0m\u001b[0;34m\u001b[0m\u001b[0m\n\u001b[0;32m----> 9\u001b[0;31m                       max_tweets = trainTweetCount).sort_values('date', ascending=False)\n\u001b[0m\u001b[1;32m     10\u001b[0m \u001b[0;34m\u001b[0m\u001b[0m\n\u001b[1;32m     11\u001b[0m   \u001b[0mtweet_df\u001b[0m\u001b[0;34m.\u001b[0m\u001b[0mhead\u001b[0m\u001b[0;34m(\u001b[0m\u001b[0;34m)\u001b[0m\u001b[0;34m\u001b[0m\u001b[0;34m\u001b[0m\u001b[0m\n",
            "\u001b[0;31mAttributeError\u001b[0m: 'NoneType' object has no attribute 'sort_values'"
          ]
        }
      ]
    }
  ]
}