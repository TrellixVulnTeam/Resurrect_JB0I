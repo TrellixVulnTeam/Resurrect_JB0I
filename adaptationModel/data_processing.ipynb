{
 "cells": [
  {
   "cell_type": "code",
   "execution_count": 53,
   "metadata": {},
   "outputs": [
    {
     "name": "stdout",
     "output_type": "stream",
     "text": [
      "   sender_name                                       text        date\n",
      "0        sajiv                             But me noodles  2019-03-13\n",
      "1        sajiv                            I'll pay u back  2019-03-13\n",
      "2        ayaan                                      Aight  2019-03-13\n",
      "3        sajiv  Tell bembum I'll send pics of homework rn  2019-03-13\n",
      "4        sajiv                                      Ayaan  2019-03-13\n",
      "5        ayaan                           I’m not with him  2019-03-13\n",
      "6        sajiv                                       Bruh  2019-03-13\n",
      "7        sajiv                                    Who u w  2019-03-13\n",
      "8        ayaan                                Rohan Arjun  2019-03-13\n",
      "9        sajiv                               Y'all boolin  2019-03-13\n",
      "10       sajiv                  I'm at a robotics meeting  2019-03-13\n",
      "11       ayaan                                         Ya  2019-03-13\n",
      "12       sajiv                          I'll pull up soon  2019-03-13\n",
      "13       ayaan                                        Bet  2019-03-13\n",
      "14       sajiv                                        Wya  2019-03-13\n",
      "15       sajiv                                         ??  2019-03-13\n",
      "16       ayaan                                       M103  2019-03-13\n",
      "17       sajiv                                        WTF  2019-03-13\n",
      "18       sajiv                               Is that down  2019-03-13\n",
      "19       ayaan                                         Ya  2019-03-13\n",
      "20       sajiv                                         Yo  2019-03-15\n",
      "21       sajiv               Can u but cookies real quick  2019-03-15\n",
      "22       sajiv                             I can pay baco  2019-03-15\n",
      "23       sajiv                   I have to dip super fast  2019-03-15\n",
      "24       sajiv                             R y pulling up  2019-03-19\n"
     ]
    }
   ],
   "source": [
    "import pandas as pd\n",
    "\n",
    "def load_data(path: str, receiver_name: str):\n",
    "    data = (pd.read_csv(path)\n",
    "               .rename({\"Sender Name\": \"sender_name\",\n",
    "                        \"Read Date\": \"read_date\",\n",
    "                        \"Delivered Date\": \"delivered_date\",\n",
    "                        \"Message Date\": \"message_date\",\n",
    "                        \"Text\": \"text\"}, axis=1))\n",
    "    \n",
    "    data[\"date\"] = data[\"message_date\"].apply(lambda x: x.split(\" \")[0])\n",
    "    \n",
    "    data = (data[[\"sender_name\", 'text', 'date']]\n",
    "            .dropna(subset=[\"date\"])\n",
    "            .fillna(receiver_name))\n",
    "    \n",
    "    data[\"sender_name\"] = data[\"sender_name\"].apply(lambda x: x.lower())\n",
    "    \n",
    "    \n",
    "    return(data)\n",
    "\n",
    "loadedData = load_data('dataset1.csv', 'Ayaan')\n",
    "\n",
    "print(loadedData)"
   ]
  },
  {
   "cell_type": "code",
   "execution_count": 54,
   "metadata": {},
   "outputs": [],
   "source": [
    "def compile_conversation(data: pd.DataFrame) -> pd.DataFrame:\n",
    "\n",
    "    data[\"group_key\"] = (data['sender_name'] != data.shift()\n",
    "                     .fillna(method='bfill')['sender_name']).cumsum().rename('group')\n",
    "    grouped_df = data.groupby(['group_key', 'date', 'sender_name'], sort=False)['text'].apply(' '.join)\n",
    "    return grouped_df.reset_index().drop(columns=[\"group_key\"])"
   ]
  },
  {
   "cell_type": "code",
   "execution_count": 55,
   "metadata": {},
   "outputs": [
    {
     "name": "stdout",
     "output_type": "stream",
     "text": [
      "          date sender_name                                               text\n",
      "0   2019-03-13       sajiv                     But me noodles I'll pay u back\n",
      "1   2019-03-13       ayaan                                              Aight\n",
      "2   2019-03-13       sajiv    Tell bembum I'll send pics of homework rn Ayaan\n",
      "3   2019-03-13       ayaan                                   I’m not with him\n",
      "4   2019-03-13       sajiv                                       Bruh Who u w\n",
      "5   2019-03-13       ayaan                                        Rohan Arjun\n",
      "6   2019-03-13       sajiv             Y'all boolin I'm at a robotics meeting\n",
      "7   2019-03-13       ayaan                                                 Ya\n",
      "8   2019-03-13       sajiv                                  I'll pull up soon\n",
      "9   2019-03-13       ayaan                                                Bet\n",
      "10  2019-03-13       sajiv                                             Wya ??\n",
      "11  2019-03-13       ayaan                                               M103\n",
      "12  2019-03-13       sajiv                                   WTF Is that down\n",
      "13  2019-03-13       ayaan                                                 Ya\n",
      "14  2019-03-15       sajiv  Yo Can u but cookies real quick I can pay baco...\n",
      "15  2019-03-19       sajiv                                     R y pulling up\n"
     ]
    }
   ],
   "source": [
    "shiftedData = compile_conversation(data)\n",
    "\n",
    "print(shiftedData)"
   ]
  }
 ],
 "metadata": {
  "kernelspec": {
   "display_name": "Python 3",
   "language": "python",
   "name": "python3"
  },
  "language_info": {
   "codemirror_mode": {
    "name": "ipython",
    "version": 3
   },
   "file_extension": ".py",
   "mimetype": "text/x-python",
   "name": "python",
   "nbconvert_exporter": "python",
   "pygments_lexer": "ipython3",
   "version": "3.8.3"
  }
 },
 "nbformat": 4,
 "nbformat_minor": 4
}
